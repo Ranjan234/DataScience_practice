{
 "cells": [
  {
   "cell_type": "markdown",
   "id": "1b87e05b",
   "metadata": {},
   "source": [
    "# Variables\n",
    "- A variable is a location in memory used to some data(value)\n",
    "- They are given unique names to differentiate between different memory locations. \n",
    "- The rules for writting a variable name is same as the rules for writting identifiers in Python.\n"
   ]
  },
  {
   "cell_type": "markdown",
   "id": "aa6483d9",
   "metadata": {},
   "source": []
  },
  {
   "cell_type": "code",
   "execution_count": null,
   "id": "bc2617c0",
   "metadata": {},
   "outputs": [
    {
     "name": "stdout",
     "output_type": "stream",
     "text": [
      "4 5 Soumya\n"
     ]
    }
   ],
   "source": [
    "# We use the assignment operator(=) to assign values to a variable\n",
    "a = 4\n",
    "b = 5\n",
    "c = \"Soumya\"\n",
    "\n",
    "print(a, b,c)"
   ]
  },
  {
   "cell_type": "code",
   "execution_count": 9,
   "id": "aa99ebf8",
   "metadata": {},
   "outputs": [
    {
     "name": "stdout",
     "output_type": "stream",
     "text": [
      "34 56 ML\n",
      "Soumya Soumya Soumya\n"
     ]
    }
   ],
   "source": [
    "# Assign multiple variable \n",
    "a, b, c = 34, 56, \"ML\"\n",
    "print(a, b, c)\n",
    "\n",
    "a = b = c = \"Soumya\" # assing same value to multiple variables at once.\n",
    "\n",
    "print(a, b,c)"
   ]
  },
  {
   "cell_type": "markdown",
   "id": "5b7e2e86",
   "metadata": {},
   "source": [
    "# Storage Location"
   ]
  },
  {
   "cell_type": "code",
   "execution_count": null,
   "id": "9c884570",
   "metadata": {},
   "outputs": [
    {
     "name": "stdout",
     "output_type": "stream",
     "text": [
      "108695621601320\n",
      "108695621601320\n"
     ]
    }
   ],
   "source": [
    "x = 5\n",
    "y = 5\n",
    "print(id(x))  # print address of variable x\n",
    "print(id(y))  # print address of variable of y\n",
    "# x and y points to same memory location"
   ]
  },
  {
   "cell_type": "code",
   "execution_count": 14,
   "id": "cb16778c",
   "metadata": {},
   "outputs": [
    {
     "name": "stdout",
     "output_type": "stream",
     "text": [
      "108695621601352\n"
     ]
    }
   ],
   "source": [
    "y = 6\n",
    "print(id(y))"
   ]
  },
  {
   "cell_type": "code",
   "execution_count": null,
   "id": "186ca06b",
   "metadata": {},
   "outputs": [],
   "source": []
  }
 ],
 "metadata": {
  "kernelspec": {
   "display_name": "Python 3",
   "language": "python",
   "name": "python3"
  },
  "language_info": {
   "codemirror_mode": {
    "name": "ipython",
    "version": 3
   },
   "file_extension": ".py",
   "mimetype": "text/x-python",
   "name": "python",
   "nbconvert_exporter": "python",
   "pygments_lexer": "ipython3",
   "version": "3.12.1"
  }
 },
 "nbformat": 4,
 "nbformat_minor": 5
}
