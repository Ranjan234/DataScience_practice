{
 "cells": [
  {
   "cell_type": "markdown",
   "id": "10a97cdc",
   "metadata": {},
   "source": [
    "# DataTypes\n",
    "- Every value in python has a datatype. Since everything is an object in python programming, datatypes are actually classes and variables are instance(objects) of the classes."
   ]
  },
  {
   "cell_type": "markdown",
   "id": "a5e1f199",
   "metadata": {},
   "source": [
    "# Numbers\n",
    "- Imteger, floating point numbers and complex no. falls under python  numbers category. They are defind a sint, float, and complex calss in python. \n",
    "- We can use type() function to know which class a variable or value belongs to and the instance() function to check if an object belongs to a particular class."
   ]
  },
  {
   "cell_type": "code",
   "execution_count": null,
   "id": "2761c1ee",
   "metadata": {},
   "outputs": [
    {
     "name": "stdout",
     "output_type": "stream",
     "text": [
      "5 is of type <class 'int'>\n"
     ]
    }
   ],
   "source": [
    "a = 5\n",
    "print(a, \"is of type\", type(a))  # data type is implicity set to integer"
   ]
  },
  {
   "cell_type": "code",
   "execution_count": null,
   "id": "dee8bfa8",
   "metadata": {},
   "outputs": [
    {
     "name": "stdout",
     "output_type": "stream",
     "text": [
      "5.65 is type of <class 'float'>\n"
     ]
    }
   ],
   "source": [
    "b = 5.65\n",
    "print(b, \"is type of\", type(b))   # data type is implicity set to float"
   ]
  },
  {
   "cell_type": "code",
   "execution_count": 7,
   "id": "77f2323d",
   "metadata": {},
   "outputs": [
    {
     "name": "stdout",
     "output_type": "stream",
     "text": [
      "(5+3j) is type of <class 'complex'>\n",
      "True\n"
     ]
    }
   ],
   "source": [
    "c = 5 + 3j\n",
    "print(c, \"is type of\", type(c))  ## data type is chane to comlpex number\n",
    "print(isinstance(1+2j, complex))"
   ]
  },
  {
   "cell_type": "code",
   "execution_count": 5,
   "id": "9d6405b9",
   "metadata": {},
   "outputs": [
    {
     "name": "stdout",
     "output_type": "stream",
     "text": [
      "0 is type of <class 'int'>\n"
     ]
    }
   ],
   "source": [
    "d = 0\n",
    "print(d, \"is type of\", type(d))"
   ]
  },
  {
   "cell_type": "markdown",
   "id": "7ca64da4",
   "metadata": {},
   "source": [
    "# Boolean\n",
    "- Boolean represent the True and False"
   ]
  },
  {
   "cell_type": "code",
   "execution_count": null,
   "id": "49e37d28",
   "metadata": {},
   "outputs": [
    {
     "name": "stdout",
     "output_type": "stream",
     "text": [
      "<class 'bool'>\n"
     ]
    }
   ],
   "source": [
    "a = True\n",
    "print(type(a))     # a is boolean type"
   ]
  },
  {
   "cell_type": "markdown",
   "id": "1c45e791",
   "metadata": {},
   "source": [
    "# Python Strings\n",
    "- String is sequence of unicode character.\n",
    "- We can use single quotes and double quotes to represent string.\n",
    "- A string in pyhton consists of a seires or sequence of characters - letter, numbers, and special characters.\n",
    "- String ca be indexed - often synonymously  called subscripted as well.\n"
   ]
  },
  {
   "cell_type": "code",
   "execution_count": 10,
   "id": "feb04c2e",
   "metadata": {},
   "outputs": [
    {
     "name": "stdout",
     "output_type": "stream",
     "text": [
      "Bharat \n",
      "     mata ki jai\n",
      "<class 'str'>\n",
      "a\n",
      "24\n"
     ]
    }
   ],
   "source": [
    "s = \"\"\"Bharat \n",
    "     mata ki jai\"\"\"\n",
    "print(s)\n",
    "print(type(s))\n",
    "print(s[2])\n",
    "print(len(s))"
   ]
  },
  {
   "cell_type": "code",
   "execution_count": 12,
   "id": "14df5993",
   "metadata": {},
   "outputs": [
    {
     "name": "stdout",
     "output_type": "stream",
     "text": [
      "at \n",
      "     mata ki jai\n"
     ]
    }
   ],
   "source": [
    "# Slicing\n",
    "print(s[4:])"
   ]
  },
  {
   "cell_type": "code",
   "execution_count": null,
   "id": "fb3865cc",
   "metadata": {},
   "outputs": [],
   "source": []
  }
 ],
 "metadata": {
  "kernelspec": {
   "display_name": "Python 3",
   "language": "python",
   "name": "python3"
  },
  "language_info": {
   "codemirror_mode": {
    "name": "ipython",
    "version": 3
   },
   "file_extension": ".py",
   "mimetype": "text/x-python",
   "name": "python",
   "nbconvert_exporter": "python",
   "pygments_lexer": "ipython3",
   "version": "3.12.1"
  }
 },
 "nbformat": 4,
 "nbformat_minor": 5
}
