{
 "cells": [
  {
   "cell_type": "markdown",
   "id": "791f3baf",
   "metadata": {},
   "source": [
    "##  Keywords are reserved words in python.\n",
    "- We can't use keyword as variable name, function name, or any other deinition.\n",
    "- Keywords are case sensitivity."
   ]
  },
  {
   "cell_type": "code",
   "execution_count": null,
   "id": "dabacee5",
   "metadata": {},
   "outputs": [
    {
     "name": "stdout",
     "output_type": "stream",
     "text": [
      "['False', 'None', 'True', 'and', 'as', 'assert', 'async', 'await', 'break', 'class', 'continue', 'def', 'del', 'elif', 'else', 'except', 'finally', 'for', 'from', 'global', 'if', 'import', 'in', 'is', 'lambda', 'nonlocal', 'not', 'or', 'pass', 'raise', 'return', 'try', 'while', 'with', 'yield']\n",
      "\n",
      " Total number of keywords: 35\n"
     ]
    }
   ],
   "source": [
    "# call the keyword in python 3.12\n",
    "import keyword\n",
    "\n",
    "print(keyword.kwlist)\n",
    "print(\"\\n Total number of keywords:\", len(keyword.kwlist))"
   ]
  },
  {
   "cell_type": "markdown",
   "id": "2a3d5750",
   "metadata": {},
   "source": [
    "# Identifier \n",
    "- Identifier is the name given to entities like class, functions, variables etc. In Python it differentiating one enitiy from another.\n",
    "1. Identifiers can be a combination of letters in lowercase (a to z)or uppercase(A to Z) or digits (0 to 9) or an underscore(_).\n",
    "2. An identifier can't start with a digit. 1 variable is invalid, but variable 1 is perfectly fine.\n",
    "3. Keywords canot use an identifiers."
   ]
  },
  {
   "cell_type": "code",
   "execution_count": null,
   "id": "40f9f6a0",
   "metadata": {},
   "outputs": [
    {
     "ename": "SyntaxError",
     "evalue": "invalid syntax (3843289760.py, line 3)",
     "output_type": "error",
     "traceback": [
      "  \u001b[36mCell\u001b[39m\u001b[36m \u001b[39m\u001b[32mIn[10]\u001b[39m\u001b[32m, line 3\u001b[39m\n\u001b[31m    \u001b[39m\u001b[31mglobal = 1\u001b[39m\n           ^\n\u001b[31mSyntaxError\u001b[39m\u001b[31m:\u001b[39m invalid syntax\n"
     ]
    }
   ],
   "source": [
    "abc_12 = 12;\n",
    "ab_12_bc =34\n",
    "global = 1  # here global is a keyword \n"
   ]
  },
  {
   "cell_type": "markdown",
   "id": "7c5fa285",
   "metadata": {},
   "source": [
    "-  We cannot use !,@, %, #, $ etc. in our identifier."
   ]
  },
  {
   "cell_type": "code",
   "execution_count": null,
   "id": "4dcc7aeb",
   "metadata": {},
   "outputs": [
    {
     "ename": "SyntaxError",
     "evalue": "invalid syntax (3142851440.py, line 1)",
     "output_type": "error",
     "traceback": [
      "  \u001b[36mCell\u001b[39m\u001b[36m \u001b[39m\u001b[32mIn[11]\u001b[39m\u001b[32m, line 1\u001b[39m\n\u001b[31m    \u001b[39m\u001b[31ma& = 10\u001b[39m\n       ^\n\u001b[31mSyntaxError\u001b[39m\u001b[31m:\u001b[39m invalid syntax\n"
     ]
    }
   ],
   "source": [
    "a& = 10  # can't use special symbols as an identifier."
   ]
  },
  {
   "cell_type": "code",
   "execution_count": null,
   "id": "0a2ba343",
   "metadata": {},
   "outputs": [],
   "source": []
  }
 ],
 "metadata": {
  "kernelspec": {
   "display_name": "Python 3",
   "language": "python",
   "name": "python3"
  },
  "language_info": {
   "codemirror_mode": {
    "name": "ipython",
    "version": 3
   },
   "file_extension": ".py",
   "mimetype": "text/x-python",
   "name": "python",
   "nbconvert_exporter": "python",
   "pygments_lexer": "ipython3",
   "version": "3.12.1"
  }
 },
 "nbformat": 4,
 "nbformat_minor": 5
}
