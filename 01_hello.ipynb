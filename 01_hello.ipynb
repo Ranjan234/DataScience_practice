{
 "cells": [
  {
   "cell_type": "markdown",
   "id": "19e71109",
   "metadata": {},
   "source": [
    "# * Why learn python *\n",
    " Python is a free, open-source programming \n",
    " language that is both powerful and easy to learn.\n",
    " It has become one of the most popular languages \n",
    "in the world due to its accessibility, flexibility, ease \n",
    "of use, and wide range of applications, including:\n",
    " • Data Analytics\n",
    " • Software Development\n",
    " • Machine Learning\n",
    " • Web Scraping\n",
    " • Game Developmen\n",
    "\n",
    "# WHY PYTHON FOR ANALYTICS?\n",
    "• Scalability: Unlike most analytics tools or self-service Business Intelligence platforms, Python is open source, free to use, and built for scale.\n",
    "\n",
    "• versatility: With powerful libraries and frameworks, Python can add value at every stage of the analytics workflow, from data prep and analysis to machine learning and visualization.\n",
    "\n",
    "• Community: Become part of a large and active Python user community, where you can share resources, get help, offer support, and connect with other users. \n",
    "\n",
    "• Automation: Python can automate complex tasks and workflows out of the box, without complicated integrations or custom plug-ins\n",
    "\n",
    "• Demand: Python skills are valuable and highly sought after, and are becoming increasingly popular among \n",
    "analytics and Business Intelligence professionals.\n",
    "\n",
    "# PYTHON ANALYTICS ECOSYSTEM\n",
    "## General Purpose Programming - PYTHON \n",
    "- Mastering base Python will give \n",
    "you a solid foundational \n",
    "understanding of the language, \n",
    "which is essential for using \n",
    "packages and libraries effectively\n",
    "\n",
    "## Data Manipulation & Analysis - Pandas\n",
    "- Pandas helps us structure our \n",
    "data into dataset formats similar \n",
    "to that which you’d see in SQL \n",
    "or Excel. It also provides us with \n",
    "an arsenal of analytical functions \n",
    "that help us manipulate data and \n",
    "calculate the metrics we need to \n",
    "understand our data\n",
    "\n",
    "## Data Visualization - matplotlib, plotly, seaborn\n",
    "-  Matplotlib and Seaborn can \n",
    "create a wide array of visually \n",
    "appealing, static visualizations\n",
    "- Plotly can be used to create \n",
    "interactive visualizations and \n",
    "dynamic dashboards\n",
    "\n",
    "• Machine learning - sciki - learn, tensorflow, stasmodels\n",
    "- Scikit learn is among the most \n",
    "popular tools for building and \n",
    "testing machine learning models\n",
    "- Statsmodels provides a suite of \n",
    "tools for model building and \n",
    "statistical analysis\n",
    "- TensorFlow is the industry \n",
    "standard for developing deep \n",
    "learning models"
   ]
  },
  {
   "cell_type": "code",
   "execution_count": 1,
   "id": "beb56464",
   "metadata": {},
   "outputs": [
    {
     "data": {
      "text/plain": [
       "0"
      ]
     },
     "execution_count": 1,
     "metadata": {},
     "output_type": "execute_result"
    }
   ],
   "source": [
    "#I'm subtracting five from five. add a space between your hash and comment\n",
    "5-5"
   ]
  },
  {
   "cell_type": "code",
   "execution_count": 2,
   "id": "a72f8fd4",
   "metadata": {},
   "outputs": [
    {
     "name": "stdout",
     "output_type": "stream",
     "text": [
      "Hello, World!\n"
     ]
    }
   ],
   "source": [
    "print(\"Hello, World!\") #This is a comment"
   ]
  },
  {
   "cell_type": "code",
   "execution_count": 3,
   "id": "c5ca701f",
   "metadata": {},
   "outputs": [
    {
     "name": "stdout",
     "output_type": "stream",
     "text": [
      "5 10\n"
     ]
    }
   ],
   "source": [
    "print(5, 5 + 5)"
   ]
  },
  {
   "cell_type": "code",
   "execution_count": null,
   "id": "3fa5c6a6",
   "metadata": {},
   "outputs": [],
   "source": [
    "\"\"\"\n",
    "This is a multi-line comment.\n",
    "It can be used to describe larger sections of code.\n",
    "\"\"\""
   ]
  },
  {
   "cell_type": "code",
   "execution_count": 4,
   "id": "86819aec",
   "metadata": {},
   "outputs": [
    {
     "name": "stdout",
     "output_type": "stream",
     "text": [
      "This is true!\n",
      "I am tab indentation\n",
      "I have no indentation\n"
     ]
    }
   ],
   "source": [
    "if 10 > 5:\n",
    "    print(\"This is true!\")\n",
    "    print(\"I am tab indentation\")\n",
    "\n",
    "print(\"I have no indentation\")"
   ]
  },
  {
   "cell_type": "code",
   "execution_count": null,
   "id": "c68d006c",
   "metadata": {},
   "outputs": [],
   "source": []
  }
 ],
 "metadata": {
  "kernelspec": {
   "display_name": "Python 3",
   "language": "python",
   "name": "python3"
  },
  "language_info": {
   "codemirror_mode": {
    "name": "ipython",
    "version": 3
   },
   "file_extension": ".py",
   "mimetype": "text/x-python",
   "name": "python",
   "nbconvert_exporter": "python",
   "pygments_lexer": "ipython3",
   "version": "3.12.6"
  }
 },
 "nbformat": 4,
 "nbformat_minor": 5
}
