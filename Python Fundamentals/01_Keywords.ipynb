{
 "cells": [
  {
   "cell_type": "markdown",
   "id": "95dbbb81",
   "metadata": {},
   "source": [
    "# Python Keywords\n",
    "- In Python are reserved words that have special meanings and serve specific purposes in the language syntax.\n",
    "- Python keywords cannot be used as the names of variables, functions, and classes or any other identifier. "
   ]
  },
  {
   "cell_type": "code",
   "execution_count": 1,
   "id": "aead0096",
   "metadata": {},
   "outputs": [
    {
     "name": "stdout",
     "output_type": "stream",
     "text": [
      "['False', 'None', 'True', 'and', 'as', 'assert', 'async', 'await', 'break', 'class', 'continue', 'def', 'del', 'elif', 'else', 'except', 'finally', 'for', 'from', 'global', 'if', 'import', 'in', 'is', 'lambda', 'nonlocal', 'not', 'or', 'pass', 'raise', 'return', 'try', 'while', 'with', 'yield']\n",
      "\n",
      " Total number of keywords: 35\n"
     ]
    }
   ],
   "source": [
    "\n",
    "# call the keyword in python 3.12\n",
    "import keyword\n",
    "\n",
    "print(keyword.kwlist)\n",
    "print(\"\\n Total number of keywords:\", len(keyword.kwlist))"
   ]
  },
  {
   "cell_type": "markdown",
   "id": "719ba4b4",
   "metadata": {},
   "source": [
    "# Value Keywords : True, False, None, del\n",
    "- True, False: These represent a boolean values.\n",
    "- None: This is a special constant used to denote a null value or a value. It's important to remember that 0, any empty container does not compute to none."
   ]
  },
  {
   "cell_type": "code",
   "execution_count": 2,
   "id": "cb3ac71a",
   "metadata": {},
   "outputs": [
    {
     "name": "stdout",
     "output_type": "stream",
     "text": [
      "True\n",
      "True\n",
      "3\n",
      "2\n",
      "1\n",
      "2\n",
      "0\n",
      "False\n",
      "False\n",
      "False\n",
      "False\n"
     ]
    }
   ],
   "source": [
    "print(False == 0)\n",
    "print(True == 1)\n",
    "\n",
    "# True + True + True is 3\n",
    "print(True + True + True)  \n",
    "\n",
    "# True + False + True is 2\n",
    "print(True + False + True)\n",
    "\n",
    "# True + False + False is 1\n",
    "print(True + False + False)\n",
    "\n",
    "# True + True + False is 2\n",
    "print(True + True + False)\n",
    "# False + False + False is 0\n",
    "print(False + False + False)\n",
    "\n",
    "# None isn't equal to 0 or an empty list[]\n",
    "print(None == 0)  # False\n",
    "print(None == [])  # False\n",
    "print(None == False)  # False\n",
    "print(None is False)  # False\n",
    "\n"
   ]
  },
  {
   "cell_type": "markdown",
   "id": "d5d108a6",
   "metadata": {},
   "source": [
    "# Operator keywords: and, or, not, in, is\n",
    "- and keywords - return 'True' if both the operands are 'True'\n",
    "- or Keywords - return 'True' if at least one operand is 'True'\n",
    "- not keywords- returns 'True' if the expression is 'False'"
   ]
  },
  {
   "cell_type": "code",
   "execution_count": 3,
   "id": "d21ae091",
   "metadata": {},
   "outputs": [
    {
     "name": "stdout",
     "output_type": "stream",
     "text": [
      "False\n",
      "True\n",
      "True\n"
     ]
    }
   ],
   "source": [
    "a = False\n",
    "b = True\n",
    "\n",
    "# logical operators\n",
    "print(a and b)  # False\n",
    "print(a or b)   # True\n",
    "print(not a)    # True\n",
    "\n"
   ]
  },
  {
   "cell_type": "markdown",
   "id": "db8596f6",
   "metadata": {},
   "source": [
    "# in keywords (membership operator)\n",
    "- Check if a value exists in a sequence (like a list, tuple, or string). It returns True if value is found."
   ]
  },
  {
   "cell_type": "code",
   "execution_count": 5,
   "id": "c9962ef0",
   "metadata": {},
   "outputs": [
    {
     "name": "stdout",
     "output_type": "stream",
     "text": [
      "True\n",
      "d is in debasmita\n"
     ]
    }
   ],
   "source": [
    "print(3 in [1,2,3,4,5])\n",
    "\n",
    "# example 2\n",
    "if 'd' in 'debasmita':\n",
    "    print(\"d is in debasmita\")\n",
    "else:\n",
    "    \n",
    "    print(\"d is not in debasmita\")"
   ]
  },
  {
   "cell_type": "markdown",
   "id": "44c34338",
   "metadata": {},
   "source": [
    "# is keyword \n",
    "- Check if two variables point to the same object in memory. it returns True if the objects are identical."
   ]
  },
  {
   "cell_type": "code",
   "execution_count": 7,
   "id": "f8274672",
   "metadata": {},
   "outputs": [
    {
     "name": "stdout",
     "output_type": "stream",
     "text": [
      "True\n",
      "True\n",
      "True\n",
      "False\n",
      "False\n",
      "False\n",
      "True\n"
     ]
    },
    {
     "name": "stderr",
     "output_type": "stream",
     "text": [
      "<>:1: SyntaxWarning: \"is\" with 'int' literal. Did you mean \"==\"?\n",
      "<>:1: SyntaxWarning: \"is\" with 'int' literal. Did you mean \"==\"?\n",
      "C:\\Users\\admin\\AppData\\Local\\Temp\\ipykernel_21112\\2080454228.py:1: SyntaxWarning: \"is\" with 'int' literal. Did you mean \"==\"?\n",
      "  print(2 is 2)\n"
     ]
    }
   ],
   "source": [
    "print(2 is 2)\n",
    "# example 2\n",
    "a = [1, 2, 3]\n",
    "b = a\n",
    "c = [1, 2,3]\n",
    "print(a is b)\n",
    "print(b is a)  # True, b and a point to the same object\n",
    "print(c is a)  # False, c is a different object with the same content\n",
    "print(b is c)  # False, b and c are different objects\n",
    "print(a is not b)  # False, a and b are the same object\n",
    "print(a is not c)  # True, a and c are different objects\n"
   ]
  },
  {
   "cell_type": "markdown",
   "id": "4256752a",
   "metadata": {},
   "source": [
    "# Control flow keyword\n",
    "- Conditional keywords: if, else, elif\n",
    "- if : truth expression forces control to go in\"if\" statement block.\n",
    "- else : Flase expression forces control to go in\"else\" statement block.\n",
    "- elif : it is short for \"else if\" "
   ]
  },
  {
   "cell_type": "code",
   "execution_count": 8,
   "id": "00ae9592",
   "metadata": {},
   "outputs": [
    {
     "name": "stdout",
     "output_type": "stream",
     "text": [
      "x is zero\n"
     ]
    }
   ],
   "source": [
    "x = 0\n",
    "\n",
    "if x > 0:\n",
    "    print(\"x is positive\")\n",
    "elif x < 0:\n",
    "    print(\"x is negative\")  \n",
    "else:\n",
    "    print(\"x is zero\")"
   ]
  },
  {
   "cell_type": "markdown",
   "id": "6f171205",
   "metadata": {},
   "source": [
    "# iteration keywords : for, while, break, continue, pass in python\n",
    "- for: This keyword is used to control flow and for looping.\n",
    "- while: Has a similar working like \"for\", used to control floe and for looping.\n",
    "- break : \"break\" is used to control the flow of the loop. The statement is used to break out of the loop and passes the control to the statement following immedieatly after loop.\n",
    "- continue: \"continue\" is also used to co0ntrol flow of code. The keyword skips the current iteration of the loop but does not end the loop.\n",
    "\n"
   ]
  },
  {
   "cell_type": "code",
   "execution_count": null,
   "id": "60216d0f",
   "metadata": {},
   "outputs": [
    {
     "name": "stdout",
     "output_type": "stream",
     "text": [
      "1\n",
      "3\n",
      "4\n",
      "5\n",
      "6\n"
     ]
    }
   ],
   "source": [
    "# for loop example\n",
    "for num in range(1, 7):\n",
    "     if num == 2 :\n",
    "          continue  # skip the number 2\n",
    "     print(num)"
   ]
  },
  {
   "cell_type": "code",
   "execution_count": 11,
   "id": "2b1655db",
   "metadata": {},
   "outputs": [
    {
     "name": "stdout",
     "output_type": "stream",
     "text": [
      "Count is: 1\n",
      "Count is: 2\n"
     ]
    }
   ],
   "source": [
    "# while loop example\n",
    "count = 0\n",
    "while count < 5:\n",
    "    count += 1  \n",
    "    if count == 3:\n",
    "        break \n",
    "\n",
    "    print(\"Count is:\", count)\n",
    "    \n"
   ]
  },
  {
   "cell_type": "markdown",
   "id": "a627c77e",
   "metadata": {},
   "source": [
    "## pass keyword: pass is the null statement in python.\n",
    "- Nothing happens when this encountered. This is used to prevent identitaion errors and used as a placeholder."
   ]
  },
  {
   "cell_type": "code",
   "execution_count": null,
   "id": "28c828eb",
   "metadata": {},
   "outputs": [],
   "source": [
    "n = 10\n",
    "for i in range(n):\n",
    "    # pass can be used as a placeholder\n",
    "    # when code is to added later\n",
    "    pass"
   ]
  },
  {
   "cell_type": "markdown",
   "id": "87d07e7c",
   "metadata": {},
   "source": [
    "-  Exception Handling Keywords\n",
    "- try : This keyword is used for exception handling, used to catch the errors in the code using the keyword except. Code in “try” block is checked, if there is any type of error, except block is executed.\n",
    "- except : As explained above, this works with “try” to catch exceptions.\n",
    "- finally : No matter what is result of the “try” block, “finally” is always executed.\n",
    "raise: We can raise an exception explicitly with the raise keyword\n",
    "- assert: This function is used for debugging purposes. Usually used to check the correctness of code. If a statement is evaluated to be true, nothing happens but when it is false, \" AssertionError \" is raised. One can also print a message with the error, separated by a comma ."
   ]
  },
  {
   "cell_type": "code",
   "execution_count": null,
   "id": "7b650148",
   "metadata": {},
   "outputs": [
    {
     "name": "stdout",
     "output_type": "stream",
     "text": [
      "Error: Division by zero is not allowed. integer division or modulo by zero\n",
      "This will always execute, regardless of an error.\n",
      "the value of a/ b is:\n"
     ]
    },
    {
     "ename": "ZeroDivisionError",
     "evalue": "division by zero",
     "output_type": "error",
     "traceback": [
      "\u001b[1;31m---------------------------------------------------------------------------\u001b[0m",
      "\u001b[1;31mZeroDivisionError\u001b[0m                         Traceback (most recent call last)",
      "Cell \u001b[1;32mIn[20], line 18\u001b[0m\n\u001b[0;32m     16\u001b[0m \u001b[38;5;66;03m# will raise assertionError because b == 0\u001b[39;00m\n\u001b[0;32m     17\u001b[0m \u001b[38;5;28;01massert\u001b[39;00m b \u001b[38;5;241m==\u001b[39m \u001b[38;5;241m0\u001b[39m, \u001b[38;5;124m\"\u001b[39m\u001b[38;5;124mb should not be zero\u001b[39m\u001b[38;5;124m\"\u001b[39m\n\u001b[1;32m---> 18\u001b[0m \u001b[38;5;28mprint\u001b[39m(\u001b[43ma\u001b[49m\u001b[43m \u001b[49m\u001b[38;5;241;43m/\u001b[39;49m\u001b[43m \u001b[49m\u001b[43mb\u001b[49m)  \u001b[38;5;66;03m# This will raise an error if b is zero\u001b[39;00m\n\u001b[0;32m     20\u001b[0m \u001b[38;5;66;03m# raise TypeError if the strings are different\u001b[39;00m\n\u001b[0;32m     21\u001b[0m temp \u001b[38;5;241m=\u001b[39m \u001b[38;5;124m\"\u001b[39m\u001b[38;5;124mgeeksforgeeks\u001b[39m\u001b[38;5;124m\"\u001b[39m\n",
      "\u001b[1;31mZeroDivisionError\u001b[0m: division by zero"
     ]
    }
   ],
   "source": [
    "a, b = 4, 0\n",
    "\n",
    "try: \n",
    "    k = a // b # attempt integer division ( 4 // 0 )\n",
    "\n",
    "    print(k)\n",
    "\n",
    "except ZeroDivisionError as e :  # catch division by zero error\n",
    "    print(\"Error: Division by zero is not allowed.\", e)\n",
    "finally:\n",
    "    # this block is always execute\n",
    "        print(\"This will always execute, regardless of an error.\")\n",
    "\n",
    "print('the value of a/ b is:') \n",
    "\n",
    "# will raise assertionError because b == 0\n",
    "assert b != 0, \"b should not be zero\"\n",
    "print(a / b)  # This will raise an error if b is zero\n",
    "\n",
    "# raise TypeError if the strings are different\n",
    "temp = \"geeksforgeeks\"\n",
    "if temp != \"geeks\":\n",
    "     raise TypeError(\"Both the strings are different\")\n"
   ]
  },
  {
   "cell_type": "code",
   "execution_count": 21,
   "id": "3165dfcf",
   "metadata": {},
   "outputs": [
    {
     "ename": "TypeError",
     "evalue": "Both the strings are different",
     "output_type": "error",
     "traceback": [
      "\u001b[1;31m---------------------------------------------------------------------------\u001b[0m",
      "\u001b[1;31mTypeError\u001b[0m                                 Traceback (most recent call last)",
      "Cell \u001b[1;32mIn[21], line 3\u001b[0m\n\u001b[0;32m      1\u001b[0m temp \u001b[38;5;241m=\u001b[39m \u001b[38;5;124m\"\u001b[39m\u001b[38;5;124mgeeksforgeeks\u001b[39m\u001b[38;5;124m\"\u001b[39m\n\u001b[0;32m      2\u001b[0m \u001b[38;5;28;01mif\u001b[39;00m temp \u001b[38;5;241m!=\u001b[39m \u001b[38;5;124m\"\u001b[39m\u001b[38;5;124mgeeks\u001b[39m\u001b[38;5;124m\"\u001b[39m:\n\u001b[1;32m----> 3\u001b[0m     \u001b[38;5;28;01mraise\u001b[39;00m \u001b[38;5;167;01mTypeError\u001b[39;00m(\u001b[38;5;124m\"\u001b[39m\u001b[38;5;124mBoth the strings are different\u001b[39m\u001b[38;5;124m\"\u001b[39m)\n",
      "\u001b[1;31mTypeError\u001b[0m: Both the strings are different"
     ]
    }
   ],
   "source": [
    "temp = \"geeksforgeeks\"\n",
    "if temp != \"geeks\":\n",
    "    raise TypeError(\"Both the strings are different\")"
   ]
  },
  {
   "cell_type": "markdown",
   "id": "d9859ae5",
   "metadata": {},
   "source": [
    "# del keyword in python \n",
    "- del is used to delete  reference to an object. Any variable list value can be deleted using del."
   ]
  },
  {
   "cell_type": "code",
   "execution_count": 24,
   "id": "a9f8747a",
   "metadata": {},
   "outputs": [
    {
     "name": "stdout",
     "output_type": "stream",
     "text": [
      "debasmita\n"
     ]
    },
    {
     "ename": "NameError",
     "evalue": "name 'd' is not defined",
     "output_type": "error",
     "traceback": [
      "\u001b[1;31m---------------------------------------------------------------------------\u001b[0m",
      "\u001b[1;31mNameError\u001b[0m                                 Traceback (most recent call last)",
      "Cell \u001b[1;32mIn[24], line 5\u001b[0m\n\u001b[0;32m      2\u001b[0m \u001b[38;5;28mprint\u001b[39m(d)\n\u001b[0;32m      4\u001b[0m \u001b[38;5;28;01mdel\u001b[39;00m d\n\u001b[1;32m----> 5\u001b[0m \u001b[38;5;28mprint\u001b[39m(\u001b[43md\u001b[49m)\n",
      "\u001b[1;31mNameError\u001b[0m: name 'd' is not defined"
     ]
    }
   ],
   "source": [
    "d = \"debasmita\"\n",
    "print(d)\n",
    "\n",
    "del d\n",
    "print(d)"
   ]
  },
  {
   "cell_type": "markdown",
   "id": "a4677fa3",
   "metadata": {},
   "source": [
    "# Function and Control\n",
    "##  Structure keywords : def, class, retrun, lamda\n",
    "- def keyword: defines a function named fun using the def keyword. when the functio0n is called using fun()."
   ]
  },
  {
   "cell_type": "code",
   "execution_count": 25,
   "id": "bc7f82da",
   "metadata": {},
   "outputs": [
    {
     "name": "stdout",
     "output_type": "stream",
     "text": [
      "debasmita\n"
     ]
    }
   ],
   "source": [
    "def fun():\n",
    "    print(\"debasmita\")\n",
    "\n",
    "fun()  # calling the function  "
   ]
  },
  {
   "cell_type": "markdown",
   "id": "a5927b4b",
   "metadata": {},
   "source": [
    "- class : class keyword is used to declare user defined classes."
   ]
  },
  {
   "cell_type": "code",
   "execution_count": 26,
   "id": "3871ff65",
   "metadata": {},
   "outputs": [],
   "source": [
    "class Animal:\n",
    "  str_1 = \"mammal\"\n",
    "  str_2 = \"dog\""
   ]
  },
  {
   "cell_type": "markdown",
   "id": "80ca4a95",
   "metadata": {},
   "source": [
    "## Retrun : this keyword is used to return from the function.\n",
    " ## yield : This keyword is used like retrun statement but is used to retrun a generator.\n",
    "\n",
    " ## Return and Yield Keyword use in Python:\n",
    "\n",
    "The 'return' keyword is used to return a final result from a function, and it exits the function immediately. In contrast, the 'yield' keyword is used to create a generator, and it allows the function to yield multiple values without exiting. When 'return' is used, it returns a single value and ends the function, while 'yield' returns multiple values one at a time and keeps the function's state."
   ]
  },
  {
   "cell_type": "code",
   "execution_count": 27,
   "id": "2a3d79b8",
   "metadata": {},
   "outputs": [
    {
     "name": "stdout",
     "output_type": "stream",
     "text": [
      "3\n"
     ]
    }
   ],
   "source": [
    "def fun():\n",
    "    s  = 3\n",
    "    return s\n",
    "print(fun())  # calling the function"
   ]
  },
  {
   "cell_type": "code",
   "execution_count": 28,
   "id": "8edf158f",
   "metadata": {},
   "outputs": [
    {
     "name": "stdout",
     "output_type": "stream",
     "text": [
      "1\n",
      "2\n",
      "3\n"
     ]
    }
   ],
   "source": [
    "def fun():\n",
    "    yield 1\n",
    "    yield 2\n",
    "    yield 3\n",
    "\n",
    "for vlaue in fun():\n",
    "    print(vlaue)  # prints 1, then 2, then 3    "
   ]
  },
  {
   "cell_type": "markdown",
   "id": "13178509",
   "metadata": {},
   "source": [
    "## lambda keyword in python\n",
    "- Lambda keyword is used to make inline retruning functions with no statements allowed internally."
   ]
  },
  {
   "cell_type": "code",
   "execution_count": null,
   "id": "e903eb6d",
   "metadata": {},
   "outputs": [
    {
     "name": "stdout",
     "output_type": "stream",
     "text": [
      "6\n"
     ]
    }
   ],
   "source": [
    "g = lambda x: x + 1\n",
    "print(g(5))  # prints 6\n",
    "\n"
   ]
  },
  {
   "cell_type": "code",
   "execution_count": 31,
   "id": "14234412",
   "metadata": {},
   "outputs": [
    {
     "name": "stdout",
     "output_type": "stream",
     "text": [
      "25\n"
     ]
    }
   ],
   "source": [
    "d = lambda x:x **2 \n",
    "print(d(5))  # prints 10"
   ]
  },
  {
   "cell_type": "markdown",
   "id": "6680d7b2",
   "metadata": {},
   "source": [
    "## Context Keywords : With, as\n",
    "- with keyword is used to wrap the execution of block of code within methods defined by context manager. This keyword is not used much in day to day programming.\n",
    "- as keyword is used to create the alias for the module imported. i.e giving a new name to the imported module. E.g import math as mymath."
   ]
  },
  {
   "cell_type": "code",
   "execution_count": 32,
   "id": "4e1f9bec",
   "metadata": {},
   "outputs": [],
   "source": [
    "with open('file_path', 'w') as file:\n",
    "    file.write('hello world !')"
   ]
  },
  {
   "cell_type": "code",
   "execution_count": 33,
   "id": "93bc1b61",
   "metadata": {},
   "outputs": [
    {
     "name": "stdout",
     "output_type": "stream",
     "text": [
      "24\n"
     ]
    }
   ],
   "source": [
    "# as \n",
    "import math as gfg\n",
    "print(gfg.factorial(4))"
   ]
  },
  {
   "cell_type": "code",
   "execution_count": 34,
   "id": "0345e9c1",
   "metadata": {},
   "outputs": [
    {
     "name": "stdout",
     "output_type": "stream",
     "text": [
      "7.0\n"
     ]
    }
   ],
   "source": [
    "print(gfg.sqrt(49))"
   ]
  },
  {
   "cell_type": "markdown",
   "id": "aecf07bf",
   "metadata": {},
   "source": [
    "## Import and module : Import, from \n",
    "\n",
    "- Import: this statement is used to inculde a particular module into current program.\n",
    "- from: Generally used with import, from is used to import particular functionality from the module imported. "
   ]
  },
  {
   "cell_type": "code",
   "execution_count": 36,
   "id": "77c9acbc",
   "metadata": {},
   "outputs": [
    {
     "name": "stdout",
     "output_type": "stream",
     "text": [
      "3628800\n",
      "720\n"
     ]
    }
   ],
   "source": [
    "from math import factorial\n",
    "import math\n",
    "print(math.factorial(10))\n",
    "\n",
    "# from keyword\n",
    "print(factorial(6))"
   ]
  },
  {
   "cell_type": "markdown",
   "id": "071b35ff",
   "metadata": {},
   "source": [
    "# Scope and namespace: Global, non-local\n",
    "- Global: this keyword is used to define a variable iside the function \n",
    "- non- local : this keyword works similar to the global, but rather than global, this keyword declares a variable to print to variable of outside enclosing function, in case of nested function."
   ]
  },
  {
   "cell_type": "code",
   "execution_count": 37,
   "id": "5b7d14f9",
   "metadata": {},
   "outputs": [
    {
     "name": "stdout",
     "output_type": "stream",
     "text": [
      "28\n"
     ]
    }
   ],
   "source": [
    "a = 10\n",
    "b = 18\n",
    "\n",
    "def add():\n",
    "\n",
    "    # add global variables a and b\n",
    "    c = a + b\n",
    "    print(c)\n",
    "\n",
    "add()    "
   ]
  },
  {
   "cell_type": "code",
   "execution_count": 39,
   "id": "4b598aee",
   "metadata": {},
   "outputs": [
    {
     "name": "stdout",
     "output_type": "stream",
     "text": [
      "20\n"
     ]
    }
   ],
   "source": [
    "def fun():\n",
    "     # local variable in fun()\n",
    "\n",
    "    var = 10\n",
    "\n",
    "    def gun():\n",
    "      \n",
    "      nonlocal var\n",
    "      var += 10\n",
    "      print(var)\n",
    "\n",
    "    gun()\n",
    "\n",
    "fun()     "
   ]
  },
  {
   "cell_type": "markdown",
   "id": "cbb723c2",
   "metadata": {},
   "source": [
    "# Async Programming: async, await\n",
    "-  Async programming allows you to run tasks concurrently, improving efficiency, especially when dealing with I/O-bound operations. The async and await keywords in Python are used to define and manage asynchronous functions.\n",
    "\n",
    "- async: Used to declare a function as asynchronous, allowing it to run concurrently with other tasks.\n",
    "- await: Used to pause the execution of an async function until the awaited task is complete."
   ]
  },
  {
   "cell_type": "code",
   "execution_count": 40,
   "id": "afa1841d",
   "metadata": {},
   "outputs": [],
   "source": [
    "import asyncio\n",
    "\n",
    "async def func():\n",
    "    print(\"Hello, async world!\")"
   ]
  },
  {
   "cell_type": "code",
   "execution_count": null,
   "id": "5241bd2c",
   "metadata": {},
   "outputs": [],
   "source": [
    "import asyncio\n",
    "\n",
    "async def main():\n",
    "    await func()\n",
    "\n",
    "async def func():\n",
    "    print(\"hello, async world!\")  \n",
    "\n",
    "asyncio.run(main())      "
   ]
  },
  {
   "cell_type": "code",
   "execution_count": null,
   "id": "3562671f",
   "metadata": {},
   "outputs": [],
   "source": []
  }
 ],
 "metadata": {
  "kernelspec": {
   "display_name": "Python 3",
   "language": "python",
   "name": "python3"
  },
  "language_info": {
   "codemirror_mode": {
    "name": "ipython",
    "version": 3
   },
   "file_extension": ".py",
   "mimetype": "text/x-python",
   "name": "python",
   "nbconvert_exporter": "python",
   "pygments_lexer": "ipython3",
   "version": "3.12.6"
  }
 },
 "nbformat": 4,
 "nbformat_minor": 5
}
