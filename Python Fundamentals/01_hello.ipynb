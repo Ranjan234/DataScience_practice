{
 "cells": [
  {
   "cell_type": "markdown",
   "id": "19e71109",
   "metadata": {},
   "source": [
    "# * Why learn Python *\n",
    " Python is a free, open-source programming \n",
    " language that is both powerful and easy to learn.\n",
    " It has become one of the most popular languages \n",
    "in the world due to its accessibility, flexibility, ease \n",
    "of use, and wide range of applications, including:\n",
    " • Data Analytics\n",
    " • Software Development\n",
    " • Machine Learning\n",
    " • Web Scraping\n",
    " • Game Developmen\n",
    "\n",
    "# WHY PYTHON FOR ANALYTICS?\n",
    "• Scalability: Unlike most analytics tools or self-service Business Intelligence platforms, Python is open source, free to use, and built for scale.\n",
    "\n",
    "• versatility: With powerful libraries and frameworks, Python can add value at every stage of the analytics workflow, from data prep and analysis to machine learning and visualization.\n",
    "\n",
    "• Community: Become part of a large and active Python user community, where you can share resources, get help, offer support, and connect with other users. \n",
    "\n",
    "• Automation: Python can automate complex tasks and workflows out of the box, without complicated integrations or custom plug-ins\n",
    "\n",
    "• Demand: Python skills are valuable and highly sought after, and are becoming increasingly popular among \n",
    "analytics and Business Intelligence professionals.\n",
    "\n",
    "# PYTHON ANALYTICS ECOSYSTEM\n",
    "## General Purpose Programming - PYTHON \n",
    "- Mastering base Python will give \n",
    "you a solid foundational \n",
    "understanding of the language, \n",
    "which is essential for using \n",
    "packages and libraries effectively\n",
    "\n",
    "## Data Manipulation & Analysis - Pandas\n",
    "- Pandas helps us structure our \n",
    "data into dataset formats similar \n",
    "to that which you’d see in SQL \n",
    "or Excel. It also provides us with \n",
    "an arsenal of analytical functions \n",
    "that help us manipulate data and \n",
    "calculate the metrics we need to \n",
    "understand our data\n",
    "\n",
    "## Data Visualization - matplotlib, plotly, seaborn\n",
    "-  Matplotlib and Seaborn can \n",
    "create a wide array of visually \n",
    "appealing, static visualizations\n",
    "- Plotly can be used to create \n",
    "interactive visualizations and \n",
    "dynamic dashboards\n",
    "\n",
    "• Machine learning - sciki - learn, tensorflow, stasmodels\n",
    "- Scikit learn is among the most \n",
    "popular tools for building and \n",
    "testing machine learning models\n",
    "- Statsmodels provides a suite of \n",
    "tools for model building and \n",
    "statistical analysis\n",
    "- TensorFlow is the industry \n",
    "standard for developing deep \n",
    "learning models"
   ]
  },
  {
   "cell_type": "code",
   "execution_count": null,
   "id": "beb56464",
   "metadata": {},
   "outputs": [
    {
     "data": {
      "text/plain": [
       "0"
      ]
     },
     "execution_count": 1,
     "metadata": {},
     "output_type": "execute_result"
    }
   ],
   "source": [
    "#I'm subtracting five from five. add a space between your hash and comment\n",
    "5-5"
   ]
  },
  {
   "cell_type": "code",
   "execution_count": null,
   "id": "a72f8fd4",
   "metadata": {},
   "outputs": [
    {
     "name": "stdout",
     "output_type": "stream",
     "text": [
      "Hello, World!\n"
     ]
    }
   ],
   "source": [
    "print(\"Hello, World!\") #This is a comment"
   ]
  },
  {
   "cell_type": "markdown",
   "id": "7495653d",
   "metadata": {},
   "source": [
    "# Comments are lines that exists in computer programs that are ignored by compilers and identifiers.\n",
    "- Including comments in programs make more code readable for humans as it provides some information or explonation about what each part of program is doing.\n",
    "- In Python we use (#) symbol to writting a commnet."
   ]
  },
  {
   "cell_type": "code",
   "execution_count": 2,
   "id": "c5ca701f",
   "metadata": {},
   "outputs": [
    {
     "name": "stdout",
     "output_type": "stream",
     "text": [
      "5 10\n"
     ]
    }
   ],
   "source": [
    "print(5, 5 + 5)"
   ]
  },
  {
   "cell_type": "code",
   "execution_count": null,
   "id": "3fa5c6a6",
   "metadata": {},
   "outputs": [],
   "source": [
    "\"\"\"\n",
    "This is a multi-line comment.\n",
    "It can be used to describe larger sections of code.\n",
    "\"\"\""
   ]
  },
  {
   "cell_type": "code",
   "execution_count": 1,
   "id": "86819aec",
   "metadata": {},
   "outputs": [
    {
     "name": "stdout",
     "output_type": "stream",
     "text": [
      "This is true!\n",
      "I am tab indentation\n",
      "I have no indentation\n"
     ]
    }
   ],
   "source": [
    "if 10 > 5:\n",
    "    print(\"This is true!\")\n",
    "    print(\"I am tab indentation\")\n",
    "\n",
    "print(\"I have no indentation\")"
   ]
  },
  {
   "cell_type": "code",
   "execution_count": 3,
   "id": "c68d006c",
   "metadata": {},
   "outputs": [
    {
     "name": "stdout",
     "output_type": "stream",
     "text": [
      "Papni\n",
      "Papni Lima 23 odisha\n"
     ]
    }
   ],
   "source": [
    "# We can use the print() function to print single and multiple variables.\n",
    "# We can print multiple variables by separating them with commas.\n",
    "\n",
    "# Single variable\n",
    "s = \"Papni\"\n",
    "print(s)\n",
    "\n",
    "# Multiple variables\n",
    "\n",
    "n = 'Lima'\n",
    "age = 23\n",
    "city = \"odisha\"\n",
    "print(s, n, age, city)"
   ]
  },
  {
   "cell_type": "markdown",
   "id": "0e8b4319",
   "metadata": {},
   "source": [
    "# Python identation\n",
    "- Most of the programming languages like c,c++. java use braces() to define a block of code.\n",
    "- Python uses identation.\n",
    "- A code block(body and function, loop etc.) starts with identation ands ends with unidented line.\n",
    "- "
   ]
  },
  {
   "cell_type": "code",
   "execution_count": 2,
   "id": "f807b0e6",
   "metadata": {},
   "outputs": [
    {
     "ename": "IndentationError",
     "evalue": "expected an indented block after 'for' statement on line 1 (3979827255.py, line 2)",
     "output_type": "error",
     "traceback": [
      "  \u001b[36mCell\u001b[39m\u001b[36m \u001b[39m\u001b[32mIn[2]\u001b[39m\u001b[32m, line 2\u001b[39m\n\u001b[31m    \u001b[39m\u001b[31mprint(i)\u001b[39m\n    ^\n\u001b[31mIndentationError\u001b[39m\u001b[31m:\u001b[39m expected an indented block after 'for' statement on line 1\n"
     ]
    }
   ],
   "source": [
    "for i in range(10):\n",
    "print(i)"
   ]
  },
  {
   "cell_type": "code",
   "execution_count": 4,
   "id": "a0ac8535",
   "metadata": {},
   "outputs": [
    {
     "name": "stdout",
     "output_type": "stream",
     "text": [
      "0\n",
      "1\n",
      "2\n",
      "3\n",
      "4\n",
      "5\n",
      "6\n",
      "7\n",
      "8\n",
      "9\n"
     ]
    }
   ],
   "source": [
    "for i in range(10):\n",
    " print(i)"
   ]
  },
  {
   "cell_type": "code",
   "execution_count": 5,
   "id": "51611d35",
   "metadata": {},
   "outputs": [
    {
     "name": "stdout",
     "output_type": "stream",
     "text": [
      "Machine learning\n"
     ]
    }
   ],
   "source": [
    "if True:\n",
    "    print(\"Machine learning\")\n",
    "    c = \"AATC\""
   ]
  },
  {
   "cell_type": "code",
   "execution_count": 8,
   "id": "11c50cda",
   "metadata": {},
   "outputs": [
    {
     "name": "stdout",
     "output_type": "stream",
     "text": [
      "Machine learning\n"
     ]
    }
   ],
   "source": [
    "if True:print(\"Machine learning\"); c = \"AATC\""
   ]
  },
  {
   "cell_type": "markdown",
   "id": "9cda2b00",
   "metadata": {},
   "source": [
    "# Python Statement\n",
    "- Instructions that a python interpreter can execute are called statements.\n"
   ]
  },
  {
   "cell_type": "code",
   "execution_count": 9,
   "id": "06d190d2",
   "metadata": {},
   "outputs": [],
   "source": [
    "a = 1 # single statement"
   ]
  },
  {
   "cell_type": "code",
   "execution_count": 10,
   "id": "dbbb611b",
   "metadata": {},
   "outputs": [],
   "source": [
    "# Multiline statement\n",
    "a = 1 + 2+ 3 + \\\n",
    "    4 + 5 + 6 +\\\n",
    "    7 + 8\n"
   ]
  },
  {
   "cell_type": "code",
   "execution_count": 11,
   "id": "42b5cf10",
   "metadata": {},
   "outputs": [
    {
     "name": "stdout",
     "output_type": "stream",
     "text": [
      "36\n"
     ]
    }
   ],
   "source": [
    "print(a)"
   ]
  },
  {
   "cell_type": "code",
   "execution_count": 2,
   "id": "cd73c530",
   "metadata": {},
   "outputs": [
    {
     "name": "stdout",
     "output_type": "stream",
     "text": [
      "35\n"
     ]
    }
   ],
   "source": [
    "# another way is use to parenthesis\n",
    "a = (1 + 2 +3 +\n",
    "     3+ 5 + 6 + \n",
    "      7+ 8)\n",
    "print(a)"
   ]
  },
  {
   "cell_type": "code",
   "execution_count": 1,
   "id": "0e0c5395",
   "metadata": {},
   "outputs": [
    {
     "ename": "NameError",
     "evalue": "name 'a' is not defined",
     "output_type": "error",
     "traceback": [
      "\u001b[31m---------------------------------------------------------------------------\u001b[39m",
      "\u001b[31mNameError\u001b[39m                                 Traceback (most recent call last)",
      "\u001b[36mCell\u001b[39m\u001b[36m \u001b[39m\u001b[32mIn[1]\u001b[39m\u001b[32m, line 1\u001b[39m\n\u001b[32m----> \u001b[39m\u001b[32m1\u001b[39m \u001b[43ma\u001b[49m == \u001b[32m10\u001b[39m,  b == \u001b[32m20\u001b[39m, c == \u001b[32m30\u001b[39m \u001b[38;5;66;03m# use multiple statements in a single line using\u001b[39;00m\n",
      "\u001b[31mNameError\u001b[39m: name 'a' is not defined"
     ]
    }
   ],
   "source": [
    "a == 10,  b == 20, c == 30 # use multiple statements in a single line using"
   ]
  },
  {
   "cell_type": "code",
   "execution_count": null,
   "id": "e6fbfb84",
   "metadata": {},
   "outputs": [],
   "source": []
  },
  {
   "cell_type": "code",
   "execution_count": null,
   "id": "56c02fc7",
   "metadata": {},
   "outputs": [],
   "source": []
  }
 ],
 "metadata": {
  "kernelspec": {
   "display_name": "Python 3",
   "language": "python",
   "name": "python3"
  },
  "language_info": {
   "codemirror_mode": {
    "name": "ipython",
    "version": 3
   },
   "file_extension": ".py",
   "mimetype": "text/x-python",
   "name": "python",
   "nbconvert_exporter": "python",
   "pygments_lexer": "ipython3",
   "version": "3.12.1"
  }
 },
 "nbformat": 4,
 "nbformat_minor": 5
}
