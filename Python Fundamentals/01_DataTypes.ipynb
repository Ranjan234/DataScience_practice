{
 "cells": [
  {
   "cell_type": "markdown",
   "id": "cf3e6c8c",
   "metadata": {},
   "source": [
    "# DataTypes\n",
    "- A data type defines the kind of data a variable can hold in programming. Such as Numbers, text or logical values.\n",
    "- It determines what operations can be performed on the data and how it is stored in memory.\n",
    "- Every value in python has a datatype. Since everything is an object in python programming, datatypes are actually classes and variables are instance(objects) of the classes."
   ]
  },
  {
   "cell_type": "markdown",
   "id": "5f4b90e0",
   "metadata": {},
   "source": [
    "# python data types \n",
    "## Single value (simple)\n",
    " 1. Numeric\n",
    " (Represents numeric values)\n",
    " • Integer(int) – 5\n",
    " • Float(float) – 5.24\n",
    " • Complex(complex) – 5 + 2j\n",
    "\n",
    " 2. Text\n",
    " (Represents sequences of characters, usually text)\n",
    " • String(str) – 'snowboard'\n",
    "\n",
    " 3. Boolean\n",
    " (Represents True and False values)\n",
    " • Boolean(bool) – True, False\n",
    "\n",
    " 4. None\n",
    " (Represents the absence of a value)\n",
    "   • NoneType–None\n",
    "\n",
    "## Multiple values:\n",
    " 5. Sequence\n",
    " (Represents sequences of values, usually text or numeric)\n",
    " • List(list) – [1, 3, 5, 7, 9]\n",
    " • Tuple(tuple) – ('snowboard', 'skis')\n",
    " • Range(range) – range(1, 10, 2)\n",
    "\n",
    " 6. Mapping\n",
    " (Maps keys to values for efficient information retrieval)\n",
    " • Dictionary(dict) – {'snowboard': 24,\n",
    " 'skis': 17}\n",
    "\n",
    " 7.  Set\n",
    " (Represents a collection of unique, non-duplicate values)\n",
    " • Set(set) – {'snowboard', 'skis’}\n",
    " • Frozen Set(frozenset) – {'snowboard’, 'skis’}\n",
    " \n"
   ]
  },
  {
   "cell_type": "code",
   "execution_count": 2,
   "id": "893c7e51",
   "metadata": {},
   "outputs": [
    {
     "name": "stdout",
     "output_type": "stream",
     "text": [
      "<class 'int'>\n",
      "<class 'complex'>\n",
      "<class 'str'>\n",
      "<class 'bool'>\n",
      "<class 'NoneType'>\n",
      "<class 'list'>\n",
      "<class 'tuple'>\n",
      "<class 'dict'>\n",
      "<class 'set'>\n"
     ]
    }
   ],
   "source": [
    " # The type() function will return the data type of the object passed to it\n",
    "a = 3\n",
    "print(type(a))\n",
    "com = 3+6j\n",
    "print(type(com))\n",
    "b = \"soumya\"\n",
    "print(type(b))\n",
    "c = True\n",
    "print(type(c))\n",
    "d = None\n",
    "print(type(d))\n",
    "e = [1,2,3,4,5]\n",
    "print(type(e))\n",
    "f = ('soumya', 'lima')\n",
    "print(type(f))\n",
    "g = {\"name\":\"soumya\",\"age\":24}\n",
    "print(type(g))\n",
    "h = {\"soumya\", 'lima',\"das\"}\n",
    "print(type(h))"
   ]
  },
  {
   "cell_type": "markdown",
   "id": "714fa7e8",
   "metadata": {},
   "source": [
    "#1. Numeric Data Types\n",
    "- The numeric data type in Python represents the data that has a numeric value. A numeric value can be an integer, a floating number, or even a complex number. These values are defined as Python int, Python float and Python complex classes in Python.\n",
    "- Integers - This value is represented by int class. It contains positive or negative whole numbers (without fractions or decimals). In Python, there is no limit to how long an integer value can be.\n",
    "\n",
    "- Float - This value is represented by the float class. It is a real number with a floating-point representation. It is specified by a decimal point. Optionally, the character e or E followed by a positive or negative integer may be appended to specify scientific notation.\n",
    "\n",
    "- Complex Numbers - A complex number is represented by a complex class. It is specified as (real part) + (imaginary part)j . For example - 2+3j"
   ]
  },
  {
   "cell_type": "code",
   "execution_count": 3,
   "id": "51278454",
   "metadata": {},
   "outputs": [
    {
     "name": "stdout",
     "output_type": "stream",
     "text": [
      "<class 'int'>\n",
      "<class 'float'>\n",
      "<class 'complex'>\n"
     ]
    }
   ],
   "source": [
    "a = 5\n",
    "print(type(a))\n",
    "\n",
    "b = 5.0\n",
    "print(type(b))\n",
    "\n",
    "c = 2 + 4j\n",
    "print(type(c))"
   ]
  },
  {
   "cell_type": "markdown",
   "id": "995a2138",
   "metadata": {},
   "source": [
    "# 2. Sequence Data Types in Python\n",
    "- The sequence Data Type in Python is the ordered collection of similar or different Python data types. Sequences allow storing of multiple values in an organized and efficient fashion. There are several sequence data types of Python:\n",
    "\n",
    "- Python String\n",
    "- Python List\n",
    "- Python Tuple\n",
    "- Python range\n",
    "\n",
    "- String Data Type also text data type\n",
    "Python Strings are arrays of bytes representing Unicode characters. In Python, there is no character data type Python, a character is a string of length one. It is represented by str class.\n",
    "\n",
    "Strings in Python can be created using single quotes, double quotes or even triple quotes. We can access individual characters of a String using index."
   ]
  },
  {
   "cell_type": "code",
   "execution_count": 4,
   "id": "3da69b13",
   "metadata": {},
   "outputs": [
    {
     "name": "stdout",
     "output_type": "stream",
     "text": [
      "Welcome to the Geeks World\n",
      "<class 'str'>\n",
      "e\n",
      "l\n",
      "d\n"
     ]
    }
   ],
   "source": [
    "s = 'Welcome to the Geeks World'\n",
    "print(s)\n",
    "\n",
    "# check data type \n",
    "print(type(s))\n",
    "\n",
    "# access string with index\n",
    "print(s[1])\n",
    "print(s[2])\n",
    "print(s[-1])"
   ]
  },
  {
   "cell_type": "markdown",
   "id": "9a8395ba",
   "metadata": {},
   "source": [
    "# List Data Type\n",
    "- Lists are just like arrays, declared in other languages which is an ordered collection of data. It is very flexible as the items in a list do not need to be of the same type.\n",
    "\n",
    "- Lists in Python can be created by just placing the sequence inside the square brackets[]."
   ]
  },
  {
   "cell_type": "code",
   "execution_count": null,
   "id": "65dd0300",
   "metadata": {},
   "outputs": [
    {
     "name": "stdout",
     "output_type": "stream",
     "text": [
      "[1, 2, 3]\n",
      "['Geeks', 'For', 'Geeks', 4, 5]\n"
     ]
    }
   ],
   "source": [
    "# Empty list\n",
    "a = []\n",
    "\n",
    "# list with int values\n",
    "a = [1, 2, 3]\n",
    "print(a)\n",
    "\n",
    "# list with mixed int and string\n",
    "b = [\"Geeks\", \"For\", \"Geeks\", 4, 5]\n",
    "\n",
    "print(b)"
   ]
  },
  {
   "cell_type": "code",
   "execution_count": null,
   "id": "3f6ec0f7",
   "metadata": {},
   "outputs": [
    {
     "name": "stdout",
     "output_type": "stream",
     "text": [
      "Accessing element from the list\n",
      "Geeks\n",
      "Geeks\n",
      "Accessing element using negative indexing\n",
      "Geeks\n",
      "Geeks\n"
     ]
    }
   ],
   "source": [
    "# Access list items\n",
    "a = [\"Geeks\", \"For\", \"Geeks\"]\n",
    "print(\"Accessing element from the list\")\n",
    "print(a[0])\n",
    "print(a[2])\n",
    "\n",
    "print(\"Accessing element using negative indexing\")\n",
    "print(a[-1])\n",
    "print(a[-3])"
   ]
  },
  {
   "cell_type": "markdown",
   "id": "6de20146",
   "metadata": {},
   "source": [
    "# Tuple Data Type\n",
    "Just like a list, a tuple is also an ordered collection of Python objects. The only difference between a tuple and a list is that tuples are immutable. Tuples cannot be modified after it is created.\n",
    "\n",
    "Creating a Tuple in Python\n",
    "\n",
    "In Python Data Types, tuples are created by placing a sequence of values separated by a ‘comma’ with or without the use of parentheses for grouping the data sequence. Tuples can contain any number of elements and of any datatype (like strings, integers, lists, etc.)."
   ]
  },
  {
   "cell_type": "code",
   "execution_count": 7,
   "id": "afed5e95",
   "metadata": {},
   "outputs": [
    {
     "name": "stdout",
     "output_type": "stream",
     "text": [
      "\n",
      "Tuple with the use of String:  ('Geeks', 'For')\n"
     ]
    }
   ],
   "source": [
    "# initiate empty tuple\n",
    "tup1 = ()\n",
    "\n",
    "tup2 = ('Geeks', 'For')\n",
    "print(\"\\nTuple with the use of String: \", tup2)"
   ]
  },
  {
   "cell_type": "markdown",
   "id": "47081a3f",
   "metadata": {},
   "source": [
    "Access Tuple Items\n",
    "\n",
    "In order to access the tuple items refer to the index number. Use the index operator [ ] to access an item in a tuple."
   ]
  },
  {
   "cell_type": "code",
   "execution_count": 8,
   "id": "29528518",
   "metadata": {},
   "outputs": [
    {
     "name": "stdout",
     "output_type": "stream",
     "text": [
      "1\n",
      "5\n",
      "3\n"
     ]
    }
   ],
   "source": [
    "tup1 = tuple([1, 2, 3, 4, 5])\n",
    "\n",
    "# access tuple items\n",
    "print(tup1[0])\n",
    "print(tup1[-1])\n",
    "print(tup1[-3])"
   ]
  },
  {
   "cell_type": "code",
   "execution_count": 16,
   "id": "04190831",
   "metadata": {},
   "outputs": [
    {
     "name": "stdout",
     "output_type": "stream",
     "text": [
      "1\n",
      "2\n",
      "3\n",
      "4\n",
      "5\n",
      "6\n",
      "7\n",
      "8\n",
      "9\n"
     ]
    }
   ],
   "source": [
    "# Using Range data type\n",
    "for i in range(1, 10):\n",
    "    print(i)"
   ]
  },
  {
   "cell_type": "markdown",
   "id": "087c2647",
   "metadata": {},
   "source": [
    "# 3. Boolean Data Type in Python\n",
    "Python Data type with one of the two built-in values, True or False. Boolean objects that are equal to True are truthy (true), and those equal to False are falsy (false). However non-Boolean objects can be evaluated in a Boolean context as well and determined to be true or false. It is denoted by the class bool."
   ]
  },
  {
   "cell_type": "code",
   "execution_count": 9,
   "id": "de97716a",
   "metadata": {},
   "outputs": [
    {
     "name": "stdout",
     "output_type": "stream",
     "text": [
      "<class 'bool'>\n",
      "<class 'bool'>\n"
     ]
    },
    {
     "ename": "NameError",
     "evalue": "name 'true' is not defined",
     "output_type": "error",
     "traceback": [
      "\u001b[31m---------------------------------------------------------------------------\u001b[39m",
      "\u001b[31mNameError\u001b[39m                                 Traceback (most recent call last)",
      "\u001b[36mCell\u001b[39m\u001b[36m \u001b[39m\u001b[32mIn[9]\u001b[39m\u001b[32m, line 3\u001b[39m\n\u001b[32m      1\u001b[39m \u001b[38;5;28mprint\u001b[39m(\u001b[38;5;28mtype\u001b[39m(\u001b[38;5;28;01mTrue\u001b[39;00m))\n\u001b[32m      2\u001b[39m \u001b[38;5;28mprint\u001b[39m(\u001b[38;5;28mtype\u001b[39m(\u001b[38;5;28;01mFalse\u001b[39;00m))\n\u001b[32m----> \u001b[39m\u001b[32m3\u001b[39m \u001b[38;5;28mprint\u001b[39m(\u001b[38;5;28mtype\u001b[39m(\u001b[43mtrue\u001b[49m))\n",
      "\u001b[31mNameError\u001b[39m: name 'true' is not defined"
     ]
    }
   ],
   "source": [
    "print(type(True))\n",
    "print(type(False))\n",
    "print(type(true))"
   ]
  },
  {
   "cell_type": "markdown",
   "id": "5b3c3282",
   "metadata": {},
   "source": [
    "# 4. Set Data Type in Python\n",
    "- In Python Data Types, Set is an unordered collection of data types that is iterable, mutable, and has no duplicate elements. The order of elements in a set is undefined though it may consist of various elements.\n",
    "\n",
    "Create a Set in Python\n",
    "- Sets can be created by using the built-in set() function with an iterable object or a sequence by placing the sequence inside curly braces, separated by a ‘comma’. The type of elements in a set need not be the same, various mixed-up data type values can also be passed to the set."
   ]
  },
  {
   "cell_type": "code",
   "execution_count": 10,
   "id": "98a9ce57",
   "metadata": {},
   "outputs": [
    {
     "name": "stdout",
     "output_type": "stream",
     "text": [
      "Set with the use of String:  {'G', 'o', 'r', 'k', 's', 'F', 'e'}\n",
      "Set with the use of List:  {'For', 'Geeks'}\n"
     ]
    }
   ],
   "source": [
    "# initializing empty set\n",
    "s1 = set()\n",
    "\n",
    "s1 = set(\"GeeksForGeeks\")\n",
    "print(\"Set with the use of String: \", s1)\n",
    "\n",
    "s2 = set([\"Geeks\", \"For\", \"Geeks\"])\n",
    "print(\"Set with the use of List: \", s2)"
   ]
  },
  {
   "cell_type": "markdown",
   "id": "cd048076",
   "metadata": {},
   "source": [
    "Access Set Items\n",
    "- Set items cannot be accessed by referring to an index, since sets are unordered the items have no index. But we can loop through the set items using a for loop, or ask if a specified value is present in a set, by using the in the keyword.\n"
   ]
  },
  {
   "cell_type": "code",
   "execution_count": 11,
   "id": "00e26ab7",
   "metadata": {},
   "outputs": [
    {
     "name": "stdout",
     "output_type": "stream",
     "text": [
      "{'For', 'Geeks'}\n",
      "For Geeks True\n"
     ]
    }
   ],
   "source": [
    "set1 = set([\"Geeks\", \"For\", \"Geeks\"])\n",
    "print(set1)\n",
    "\n",
    "# loop through set\n",
    "for i in set1:\n",
    "    print(i, end=\" \")\n",
    "    \n",
    "# check if item exist in set    \n",
    "print(\"Geeks\" in set1)"
   ]
  },
  {
   "cell_type": "markdown",
   "id": "239702dc",
   "metadata": {},
   "source": [
    "# 5. Dictionary Data Type\n",
    "- A dictionary in Python is a collection of data values, used to store data values like a map, unlike other Python Data Types that hold only a single value as an element, a Dictionary holds a key: value pair. Key-value is provided in the dictionary to make it more optimized. Each key-value pair in a Dictionary is separated by a colon : , whereas each key is separated by a ‘comma’.\n",
    "\n",
    "Create a Dictionary in Python\n",
    "- Values in a dictionary can be of any datatype and can be duplicated, whereas keys can’t be repeated and must be immutable. The dictionary can also be created by the built-in function dict().\n",
    "\n"
   ]
  },
  {
   "cell_type": "code",
   "execution_count": 12,
   "id": "3ec73225",
   "metadata": {},
   "outputs": [
    {
     "name": "stdout",
     "output_type": "stream",
     "text": [
      "{1: 'Geeks', 2: 'For', 3: 'Geeks'}\n",
      "{1: 'Geeks', 2: 'For', 3: 'Geeks'}\n"
     ]
    }
   ],
   "source": [
    "# initialize empty dictionary\n",
    "d = {}\n",
    "\n",
    "\n",
    "d = {1: 'Geeks', 2: 'For', 3: 'Geeks'}\n",
    "print(d)\n",
    "\n",
    "# creating dictionary using dict() constructor\n",
    "d1 = dict({1: 'Geeks', 2: 'For', 3: 'Geeks'})\n",
    "print(d1)"
   ]
  },
  {
   "cell_type": "markdown",
   "id": "4c9ca9c3",
   "metadata": {},
   "source": [
    "Accessing Key-value in Dictionary\n",
    "- In order to access the items of a dictionary refer to its key name. Key can be used inside square brackets. Using get() method we can access the dictionary elements."
   ]
  },
  {
   "cell_type": "code",
   "execution_count": 13,
   "id": "46727b7d",
   "metadata": {},
   "outputs": [
    {
     "name": "stdout",
     "output_type": "stream",
     "text": [
      "For\n",
      "Geeks\n"
     ]
    }
   ],
   "source": [
    "d = {1: 'Geeks', 'name': 'For', 3: 'Geeks'}\n",
    "\n",
    "# Accessing an element using key\n",
    "print(d['name'])\n",
    "\n",
    "# Accessing a element using get\n",
    "print(d.get(3))"
   ]
  },
  {
   "cell_type": "code",
   "execution_count": null,
   "id": "2d790fb1",
   "metadata": {},
   "outputs": [],
   "source": [
    "# Code to implement basic list operations\n",
    "fruits = [\"apple\", \"banana\", \"orange\"]\n",
    "print(fruits)\n",
    "fruits.append(\"grape\")\n",
    "print(fruits)\n",
    "fruits.remove(\"orange\")\n",
    "print(fruits)"
   ]
  },
  {
   "cell_type": "code",
   "execution_count": null,
   "id": "644cce01",
   "metadata": {},
   "outputs": [
    {
     "name": "stdout",
     "output_type": "stream",
     "text": [
      "(3, 5)\n",
      "X-coordinate: 3\n",
      "Y-coordinate: 5\n"
     ]
    }
   ],
   "source": [
    "# Code to implement basic tuple operation\n",
    "coordinates = (3, 5)\n",
    "print(coordinates)\n",
    "print(\"X-coordinate:\", coordinates[0])\n",
    "print(\"Y-coordinate:\", coordinates[1])"
   ]
  },
  {
   "cell_type": "code",
   "execution_count": null,
   "id": "8126c9db",
   "metadata": {},
   "outputs": [],
   "source": []
  }
 ],
 "metadata": {
  "kernelspec": {
   "display_name": "Python 3",
   "language": "python",
   "name": "python3"
  },
  "language_info": {
   "codemirror_mode": {
    "name": "ipython",
    "version": 3
   },
   "file_extension": ".py",
   "mimetype": "text/x-python",
   "name": "python",
   "nbconvert_exporter": "python",
   "pygments_lexer": "ipython3",
   "version": "3.12.1"
  }
 },
 "nbformat": 4,
 "nbformat_minor": 5
}
