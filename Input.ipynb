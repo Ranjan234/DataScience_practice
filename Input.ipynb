{
 "cells": [
  {
   "cell_type": "markdown",
   "id": "8bef67fe",
   "metadata": {},
   "source": [
    "# Python input() function is used to take user input. By default, it returns the user input in form of a string. "
   ]
  },
  {
   "cell_type": "code",
   "execution_count": 4,
   "id": "95b09dc9",
   "metadata": {},
   "outputs": [
    {
     "name": "stdout",
     "output_type": "stream",
     "text": [
      "Hello, soumya | Welcome !\n"
     ]
    }
   ],
   "source": [
    "Name = input(\"Enter Your name:\")\n",
    "print(\"Hello,\", Name, \"| Welcome !\")"
   ]
  },
  {
   "cell_type": "markdown",
   "id": "1e12a504",
   "metadata": {},
   "source": [
    "# Take multiple input in python\n",
    "- We are taking multiple input from the user in a single line spliting the values entered by the user into separate variables for each value using the split() method."
   ]
  },
  {
   "cell_type": "code",
   "execution_count": 6,
   "id": "c6c0ad8a",
   "metadata": {},
   "outputs": [
    {
     "name": "stdout",
     "output_type": "stream",
     "text": [
      "Number of boys: 34\n",
      "Number of girls: 45\n"
     ]
    }
   ],
   "source": [
    "# taking two inputs at a time \n",
    "x, y = input(\"Enter two values :\").split()\n",
    "print(\"Number of boys:\", x)\n",
    "print(\"Number of girls:\", y)"
   ]
  },
  {
   "cell_type": "code",
   "execution_count": 8,
   "id": "87a5a012",
   "metadata": {},
   "outputs": [
    {
     "name": "stdout",
     "output_type": "stream",
     "text": [
      "Total number of students: 40\n",
      "No of boys: 30\n",
      "No of girls: 10\n"
     ]
    }
   ],
   "source": [
    "# taking three input at a time\n",
    "x, y, z = input(\"Enter three values:\" ).split()\n",
    "print(\"Total number of students:\", x)\n",
    "print(\"No of boys:\", y)\n",
    "print(\"No of girls:\", z)"
   ]
  },
  {
   "cell_type": "markdown",
   "id": "9e68180e",
   "metadata": {},
   "source": [
    "# Take conditional input from user in python."
   ]
  },
  {
   "cell_type": "code",
   "execution_count": 9,
   "id": "72bfafa7",
   "metadata": {},
   "outputs": [
    {
     "name": "stdout",
     "output_type": "stream",
     "text": [
      "You are an adult.\n"
     ]
    }
   ],
   "source": [
    "# Promting the user for input\n",
    "age_input = input(\"Enter your age:\")\n",
    "\n",
    "# Converting the input to an integer\n",
    "age = int(age_input)\n",
    "\n",
    "# Checking conditions based on user input\n",
    "if age < 0:\n",
    "    print(\"Please enter a valid age.\")\n",
    "elif age < 18 :\n",
    "    print(\"You are a minor.\")   \n",
    "elif age >= 18 and age < 65:\n",
    "    print(\"You are an adult.\")\n",
    "else:\n",
    "    print(\"You are a senior citizen.\")    \n"
   ]
  },
  {
   "cell_type": "markdown",
   "id": "51d77fcd",
   "metadata": {},
   "source": [
    "## How to change the type of input in python\n",
    "- By default input() function helps in taking user as string. if any user wants to take input as int or float, we just need to typecast it."
   ]
  },
  {
   "cell_type": "code",
   "execution_count": 10,
   "id": "20b6bb48",
   "metadata": {},
   "outputs": [
    {
     "name": "stdout",
     "output_type": "stream",
     "text": [
      "red\n"
     ]
    }
   ],
   "source": [
    "# Taking input as string \n",
    "color = input(\"What color is rose?: \")\n",
    "print(color)"
   ]
  },
  {
   "cell_type": "code",
   "execution_count": null,
   "id": "79155e86",
   "metadata": {},
   "outputs": [
    {
     "name": "stdout",
     "output_type": "stream",
     "text": [
      "40\n"
     ]
    }
   ],
   "source": [
    "# Taking input as int\n",
    "# Typecasting to int\n",
    "n = int(input(\"How many roses?: \"))\n",
    "print(n)"
   ]
  },
  {
   "cell_type": "code",
   "execution_count": 12,
   "id": "95144a16",
   "metadata": {},
   "outputs": [
    {
     "data": {
      "text/plain": [
       "30.0"
      ]
     },
     "execution_count": 12,
     "metadata": {},
     "output_type": "execute_result"
    }
   ],
   "source": [
    "# Taking input as float\n",
    "# Typecasting to float\n",
    "price = float(input(\"Price of the rose :\"))\n",
    "price"
   ]
  },
  {
   "cell_type": "code",
   "execution_count": 13,
   "id": "0216c42b",
   "metadata": {},
   "outputs": [
    {
     "name": "stdout",
     "output_type": "stream",
     "text": [
      "<class 'str'>\n",
      "<class 'int'>\n",
      "<class 'float'>\n",
      "<class 'tuple'>\n",
      "<class 'list'>\n",
      "<class 'dict'>\n"
     ]
    }
   ],
   "source": [
    "# Find DataType of input in Python\n",
    "\n",
    "a = \"Hello Soumya\"\n",
    "b = 300\n",
    "c = 499.0\n",
    "d = (\"som\", \"agni\",\"lima\")\n",
    "e = [\"Deba\", \"love\" \"Yopu\"]\n",
    "f = {\"name\":\"lima\", \"age\":23, \"place\":\"jajpur\"}\n",
    "\n",
    "print(type(a))\n",
    "print(type(b))\n",
    "print(type(c))\n",
    "print(type(d))\n",
    "print(type(e))\n",
    "print(type(f))"
   ]
  }
 ],
 "metadata": {
  "kernelspec": {
   "display_name": "Python 3",
   "language": "python",
   "name": "python3"
  },
  "language_info": {
   "codemirror_mode": {
    "name": "ipython",
    "version": 3
   },
   "file_extension": ".py",
   "mimetype": "text/x-python",
   "name": "python",
   "nbconvert_exporter": "python",
   "pygments_lexer": "ipython3",
   "version": "3.12.1"
  }
 },
 "nbformat": 4,
 "nbformat_minor": 5
}
